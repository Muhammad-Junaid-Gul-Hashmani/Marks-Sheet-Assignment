{
 "cells": [
  {
   "cell_type": "code",
   "execution_count": 1,
   "metadata": {},
   "outputs": [
    {
     "name": "stdout",
     "output_type": "stream",
     "text": [
      "Marks of English is 80\n",
      "Marks of Math is 85\n",
      "Marks of Accounting is 77\n",
      "Marks of Economics is 75\n",
      "Marks of Urdu is 80\n",
      "\n",
      "Total Marks Obtained: 397\n",
      "Grade 'B'\n"
     ]
    }
   ],
   "source": [
    "# MARKS SHEET ASSIGNMENT\n",
    "Subjects = (\"English\", \"Math\", \"Accounting\", \"Economics\", \"Urdu\")\n",
    "marks = (80,85,77,75,80)\n",
    "print(\"Marks of\", Subjects[0], \"is\", marks[0])\n",
    "print(\"Marks of\", Subjects[1], \"is\", marks[1])\n",
    "print(\"Marks of\", Subjects[2], \"is\", marks[2])\n",
    "print(\"Marks of\", Subjects[3], \"is\", marks[3])\n",
    "print(\"Marks of\", Subjects[4], \"is\", marks[4])\n",
    "print()\n",
    "\n",
    "total_marks_obtained = marks[0] + marks[1] + marks[2] + marks[3] + marks[4]\n",
    "print(\"Total Marks Obtained:\", total_marks_obtained)\n",
    "percentage = total_marks_obtained/500*100\n",
    "if(percentage > 0 and percentage <= 60):\n",
    "    print(\"You are Failed\")\n",
    "elif(percentage > 60 and percentage <= 85):\n",
    "    print(\"Grade 'B'\")\n",
    "elif(percentage > 85 and percentage <= 100):\n",
    "    print(\"Grade 'A'\")"
   ]
  },
  {
   "cell_type": "code",
   "execution_count": null,
   "metadata": {},
   "outputs": [],
   "source": []
  }
 ],
 "metadata": {
  "kernelspec": {
   "display_name": "Python 3",
   "language": "python",
   "name": "python3"
  },
  "language_info": {
   "codemirror_mode": {
    "name": "ipython",
    "version": 3
   },
   "file_extension": ".py",
   "mimetype": "text/x-python",
   "name": "python",
   "nbconvert_exporter": "python",
   "pygments_lexer": "ipython3",
   "version": "3.7.3"
  }
 },
 "nbformat": 4,
 "nbformat_minor": 2
}
